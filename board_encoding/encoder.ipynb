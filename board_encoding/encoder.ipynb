{
 "cells": [
  {
   "cell_type": "code",
   "execution_count": 5,
   "metadata": {},
   "outputs": [],
   "source": [
    "import numpy as np\n",
    "import random as r\n",
    "import itertools as it\n",
    "from numba import njit"
   ]
  },
  {
   "cell_type": "code",
   "execution_count": 72,
   "metadata": {},
   "outputs": [],
   "source": [
    "four = np.fromfile('board_encoding/four.dat', dtype=int).reshape(32760,4)\n",
    "five = np.fromfile('board_encoding/five.dat', dtype=int).reshape(360360,5)\n",
    "\n",
    "@njit\n",
    "def find(row):\n",
    "    if len(row) == 4:\n",
    "        for i in range(32760):\n",
    "            if row[0] == four[i][0] and row[1] == four[i][1] and row[2] == four[i][2] and row[3] == four[i][3]:\n",
    "                return i\n",
    "    else:\n",
    "        for i in range(360360):\n",
    "            if row[0] == five[i][0] and row[1] == five[i][1] and row[2] == five[i][2] and row[3] == five[i][3] and row[4] == five[i][4]:\n",
    "                return i\n",
    "\n",
    "def to_base_62(n):\n",
    "    digits = \"0123456789abcdefghijklmnopqrstuvwxyzABCDEFGHIJKLMNOPQRSTUVWXYZ\"\n",
    "    s = \"\"\n",
    "    while n!=0:\n",
    "        r = n % 62\n",
    "        s = digits[r] + s\n",
    "        n = n // 62\n",
    "    return s\n",
    "\n",
    "def to_base_10(base_62):\n",
    "    base_62_arr = [el for el in base_62][::-1]\n",
    "    digits = \"0123456789abcdefghijklmnopqrstuvwxyzABCDEFGHIJKLMNOPQRSTUVWXYZ\"\n",
    "    n = 0\n",
    "    while len(base_62_arr) != 0:\n",
    "        n = digits.index(base_62_arr.pop()) + n * 62\n",
    "    return n\n",
    "\n",
    "def encode(cardArray):    \n",
    "    card = cardArray.copy()\n",
    "    \n",
    "    for col in range(5):\n",
    "        card.T[col] -= 15 * col + 1\n",
    "    \n",
    "    B = card.T[0]\n",
    "    I = card.T[1]\n",
    "    N = np.delete(card.T[2],2)\n",
    "    G = card.T[3]\n",
    "    O = card.T[4]\n",
    "    \n",
    "    num = 0\n",
    "    for row in [B, I, N, G, O]:\n",
    "        num = find(row) + 360360 * num\n",
    "    \n",
    "    return to_base_62(num)\n",
    "\n",
    "\n",
    "def decode(base_62_num):\n",
    "    card = np.zeros((5,5))\n",
    "    base_10 = to_base_10(base_62_num)\n",
    "    for i in range(5):\n",
    "        num = base_10 % 360360\n",
    "        if i == 2:\n",
    "            card[2] = np.insert(four[num],2,-31)\n",
    "        else:\n",
    "            card[4 - i] = five[num]\n",
    "        base_10 = base_10 // 360360\n",
    "    \n",
    "    cardArray = card.T\n",
    "    for col in range(5):\n",
    "        card[col] += 15 * col + 1\n",
    "    \n",
    "    return np.array(card).T"
   ]
  },
  {
   "cell_type": "code",
   "execution_count": 73,
   "metadata": {},
   "outputs": [
    {
     "name": "stdout",
     "output_type": "stream",
     "text": [
      "[[ 9 29 31 49 65]\n",
      " [ 3 17 42 47 70]\n",
      " [ 6 28  0 52 64]\n",
      " [ 2 16 40 51 74]\n",
      " [11 22 35 59 62]]\n",
      "4iK8GqOV8f5AMr3B\n",
      "3308100000606021129228109611\n",
      "[[ 9. 29. 31. 49. 65.]\n",
      " [ 3. 17. 42. 47. 70.]\n",
      " [ 6. 28.  0. 52. 64.]\n",
      " [ 2. 16. 40. 51. 74.]\n",
      " [11. 22. 35. 59. 62.]]\n"
     ]
    }
   ],
   "source": [
    "B = r.sample(range(1,16), 5)\n",
    "I = r.sample(range(16,31), 5)\n",
    "N = r.sample(range(31,46), 5)\n",
    "G = r.sample(range(46,61), 5)\n",
    "O = r.sample(range(61,76), 5)\n",
    "\n",
    "cardArray = np.array([B, I, N, G, O]).T\n",
    "cardArray[2][2] = 0\n",
    "\n",
    "print(cardArray)\n",
    "\n",
    "e = encode(cardArray)\n",
    "\n",
    "print(e)\n",
    "\n",
    "print(to_base_10(e))\n",
    "\n",
    "print(decode(e))"
   ]
  },
  {
   "cell_type": "code",
   "execution_count": null,
   "metadata": {},
   "outputs": [],
   "source": []
  }
 ],
 "metadata": {
  "kernelspec": {
   "display_name": "Python 3",
   "language": "python",
   "name": "python3"
  },
  "language_info": {
   "codemirror_mode": {
    "name": "ipython",
    "version": 3
   },
   "file_extension": ".py",
   "mimetype": "text/x-python",
   "name": "python",
   "nbconvert_exporter": "python",
   "pygments_lexer": "ipython3",
   "version": "3.7.4"
  }
 },
 "nbformat": 4,
 "nbformat_minor": 4
}
