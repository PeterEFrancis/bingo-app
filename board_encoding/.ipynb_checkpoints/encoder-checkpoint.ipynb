{
 "cells": [
  {
   "cell_type": "code",
   "execution_count": 23,
   "metadata": {},
   "outputs": [],
   "source": [
    "import numpy as np\n",
    "import random as r\n",
    "import itertools as it"
   ]
  },
  {
   "cell_type": "code",
   "execution_count": 22,
   "metadata": {},
   "outputs": [
    {
     "name": "stdout",
     "output_type": "stream",
     "text": [
      "[[15 20 34 52 61]\n",
      " [ 7 22 38 58 75]\n",
      " [ 5 30  0 50 66]\n",
      " [14 19 31 47 68]\n",
      " [ 8 26 44 59 63]]\n",
      "[[14  4  3  6  0]\n",
      " [ 6  6  7 12 14]\n",
      " [ 4 14  0  4  5]\n",
      " [13  3  0  1  7]\n",
      " [ 7 10 13 13  2]]\n"
     ]
    }
   ],
   "source": [
    "B = r.sample(range(1,16), 5)\n",
    "I = r.sample(range(16,31), 5)\n",
    "N = r.sample(range(31,46), 5)\n",
    "G = r.sample(range(46,61), 5)\n",
    "O = r.sample(range(61,76), 5)\n",
    "\n",
    "cardArray = np.array([B, I, N, G, O]).T\n",
    "cardArray[2][2] = 0\n",
    "print(cardArray)\n",
    "\n",
    "# lower entries\n",
    "for col in range(5):\n",
    "    cardArray.T[col] -= 15 * col + 1\n",
    "cardArray\n",
    "cardArray[2][2] = 0\n",
    "\n",
    "print(cardArray)"
   ]
  },
  {
   "cell_type": "code",
   "execution_count": 25,
   "metadata": {},
   "outputs": [
    {
     "name": "stdout",
     "output_type": "stream",
     "text": [
      "[[14  6  4 13  7]\n",
      " [ 4  6 14  3 10]\n",
      " [ 3  7  0  0 13]\n",
      " [ 6 12  4  1 13]\n",
      " [ 0 14  5  7  2]]\n"
     ]
    }
   ],
   "source": [
    "print(cardArray.T)"
   ]
  },
  {
   "cell_type": "code",
   "execution_count": 55,
   "metadata": {},
   "outputs": [
    {
     "ename": "FileNotFoundError",
     "evalue": "[Errno 2] No such file or directory: 'four.dat'",
     "output_type": "error",
     "traceback": [
      "\u001b[0;31m---------------------------------------------------------------------------\u001b[0m",
      "\u001b[0;31mFileNotFoundError\u001b[0m                         Traceback (most recent call last)",
      "\u001b[0;32m<ipython-input-55-273c0b2040d2>\u001b[0m in \u001b[0;36m<module>\u001b[0;34m\u001b[0m\n\u001b[0;32m----> 1\u001b[0;31m \u001b[0mfour\u001b[0m \u001b[0;34m=\u001b[0m \u001b[0mnp\u001b[0m\u001b[0;34m.\u001b[0m\u001b[0mfromfile\u001b[0m\u001b[0;34m(\u001b[0m\u001b[0;34m'four.dat'\u001b[0m\u001b[0;34m,\u001b[0m \u001b[0mdtype\u001b[0m\u001b[0;34m=\u001b[0m\u001b[0mint\u001b[0m\u001b[0;34m)\u001b[0m\u001b[0;34m\u001b[0m\u001b[0;34m\u001b[0m\u001b[0m\n\u001b[0m\u001b[1;32m      2\u001b[0m \u001b[0mfive\u001b[0m \u001b[0;34m=\u001b[0m \u001b[0mnp\u001b[0m\u001b[0;34m.\u001b[0m\u001b[0mfromfile\u001b[0m\u001b[0;34m(\u001b[0m\u001b[0;34m'five.dat'\u001b[0m\u001b[0;34m,\u001b[0m \u001b[0mdtype\u001b[0m\u001b[0;34m=\u001b[0m\u001b[0mint\u001b[0m\u001b[0;34m)\u001b[0m\u001b[0;34m\u001b[0m\u001b[0;34m\u001b[0m\u001b[0m\n",
      "\u001b[0;31mFileNotFoundError\u001b[0m: [Errno 2] No such file or directory: 'four.dat'"
     ]
    }
   ],
   "source": [
    "four = np.fromfile('four.dat', dtype=int)\n",
    "five = np.fromfile('five.dat', dtype=int)"
   ]
  },
  {
   "cell_type": "code",
   "execution_count": null,
   "metadata": {},
   "outputs": [],
   "source": []
  }
 ],
 "metadata": {
  "kernelspec": {
   "display_name": "Python 3",
   "language": "python",
   "name": "python3"
  },
  "language_info": {
   "codemirror_mode": {
    "name": "ipython",
    "version": 3
   },
   "file_extension": ".py",
   "mimetype": "text/x-python",
   "name": "python",
   "nbconvert_exporter": "python",
   "pygments_lexer": "ipython3",
   "version": "3.7.4"
  }
 },
 "nbformat": 4,
 "nbformat_minor": 4
}
